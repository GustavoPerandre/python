#Montar o Google Drive
from google.colab import drive

drive.mount('/content/drive')

--------------------------------

!pip install unidecode

--------------------------------

import pandas as pd
from sklearn.feature_extraction.text import CountVectorizer
from sklearn.model_selection import train_test_split
from sklearn.linear_model import LogisticRegression
import nltk
nltk.download("all") 
from nltk import tokenize
import unidecode
from string import punctuation
from sklearn.feature_extraction.text import TfidfVectorizer

-----------------------------------

# carrega os dados
resenhas = pd.read_csv('/content/drive/My Drive/TCC_PUCRS/imdb-reviews-pt-br.csv')

# ajustando os sentimentos para 0/1
resenhas['classificacao'] = resenhas['sentiment'].replace(['neg','pos'], [0,1])

# identificando as palavras irrelevantes (stop words)
palavras_irrelevantes = nltk.corpus.stopwords.words('portuguese')

# listando a pontuação
pontuacao = list()
for ponto in punctuation:
    pontuacao.append(ponto)
    
palavras_irrelevantes_e_pontuacao = pontuacao + palavras_irrelevantes

# adicionando casos onde as aspas (simples e duplas) estão no final da frase
palavras_irrelevantes_e_pontuacao.append('".')
palavras_irrelevantes_e_pontuacao.append("'.")
palavras_irrelevantes_e_pontuacao.append('...')

# removendo os acentos
palavras_irrelevantes_e_pontuacao_sem_acento = [unidecode.unidecode(sw) for sw in palavras_irrelevantes_e_pontuacao]

# tokenizador de frases
punct_tokenizer = tokenize.WordPunctTokenizer()

# calculador do stemm das palavras
stemmer = nltk.RSLPStemmer()

----------------------------------------

# ajustar as opinioes para o que se espera
# reduzindo palavras para o seu stemm; cuidado: bem lento
frases_processadas = list()
for opiniao in resenhas.text_pt:
    nova_opiniao = list()
    palavras_opiniao = punct_tokenizer.tokenize(unidecode.unidecode(opiniao.lower()))
    for palavra in palavras_opiniao:
        if palavra not in palavras_irrelevantes_e_pontuacao_sem_acento:
            nova_opiniao.append(stemmer.stem(palavra))
    frases_processadas.append(' '.join(nova_opiniao))

resenhas['opiniao_tratada'] = frases_processadas

------------------------------------------

# define uma função para criar um classificador de textos, usando TF-IDF e ngrams 1-2
def classificar_texto_tfidf_ngrams(texto, coluna_texto, coluna_classificacao):
    vetorizador = TfidfVectorizer(lowercase=False, ngram_range=(1,2))
    big_bag_of_words = vetorizador.fit_transform(texto[coluna_texto])

    X_train, X_test, Y_train, Y_test = train_test_split(big_bag_of_words,
                                                        texto[coluna_classificacao],
                                                        random_state = 42)

    regressao_logistica = LogisticRegression(solver='lbfgs')
    regressao_logistica.fit(X_train, Y_train)
    
    return regressao_logistica.score(X_test, Y_test), \
        regressao_logistica, \
        vetorizador

--------------------------------------------

# executa a função para criar os objetos
acuracia, modelo, vetorizador = classificar_texto_tfidf_ngrams(resenhas, 'opiniao_tratada', 'classificacao')

--------------------------------------------

# simulador
def opiniao_eh_positiva(modelo, vetorizador, opiniao):
    nova_opiniao = list()
    palavras_opiniao = tokenize.WordPunctTokenizer().tokenize(unidecode.unidecode(opiniao.lower()))
    for palavra in palavras_opiniao:
        if palavra not in palavras_irrelevantes_e_pontuacao_sem_acento:
            nova_opiniao.append(stemmer.stem(palavra))
    opiniao_filtrada = ' '.join(nova_opiniao)
    print('Opinião limpa:', opiniao_filtrada)
    
    big_bag_of_words = vetorizador.transform([opiniao_filtrada])
#     print(big_bag_of_words)
    return modelo.predict(big_bag_of_words)[0] == 1

-----------------------------------------------

# opinião positiva
opiniao = 'é um filme bom, gostei bastante'
print('Esta opinião é positiva?', opiniao_eh_positiva(modelo, vetorizador, opiniao))

------------------------------------------------

# opinião negativa
opiniao = 'nao gostei do filme, muito chato e tedioso'
print('Esta opinião é positiva?', opiniao_eh_positiva(modelo, vetorizador, opiniao))
